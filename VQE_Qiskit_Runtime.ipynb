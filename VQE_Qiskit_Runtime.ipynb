{
 "cells": [
  {
   "cell_type": "code",
   "execution_count": null,
   "id": "5f7dc107-b0d6-41e7-a465-f981f30810bc",
   "metadata": {},
   "outputs": [],
   "source": []
  },
  {
   "cell_type": "code",
   "execution_count": 8,
   "id": "38127ccc-1071-4857-85d7-e7ad40296480",
   "metadata": {},
   "outputs": [
    {
     "name": "stderr",
     "output_type": "stream",
     "text": [
      "ibmqfactory.load_account:WARNING:2023-02-28 13:06:09,859: Credentials are already in use. The existing account in the session will be replaced.\n"
     ]
    }
   ],
   "source": [
    "import numpy as np\n",
    "\n",
    "# Importing standard Qiskit libraries\n",
    "from qiskit import QuantumCircuit, transpile, Aer, IBMQ, BasicAer\n",
    "from qiskit.tools.jupyter import *\n",
    "from qiskit.visualization import *\n",
    "from ibm_quantum_widgets import *\n",
    "from qiskit.providers.aer import QasmSimulator\n",
    "\n",
    "# Loading your IBM Quantum account(s)\n",
    "provider = IBMQ.load_account()"
   ]
  },
  {
   "cell_type": "code",
   "execution_count": 9,
   "id": "0b276de2-49ef-48c6-9afd-877a479abee0",
   "metadata": {},
   "outputs": [
    {
     "data": {
      "text/plain": [
       "[<IBMBackend('ibmq_jakarta')>,\n",
       " <IBMBackend('ibm_nairobi')>,\n",
       " <IBMBackend('ibmq_qasm_simulator')>,\n",
       " <IBMBackend('ibmq_lima')>,\n",
       " <IBMBackend('ibmq_belem')>,\n",
       " <IBMBackend('ibmq_quito')>,\n",
       " <IBMBackend('simulator_statevector')>,\n",
       " <IBMBackend('simulator_mps')>,\n",
       " <IBMBackend('simulator_extended_stabilizer')>,\n",
       " <IBMBackend('simulator_stabilizer')>,\n",
       " <IBMBackend('ibmq_manila')>,\n",
       " <IBMBackend('ibm_lagos')>,\n",
       " <IBMBackend('ibm_perth')>,\n",
       " <IBMBackend('ibm_oslo')>]"
      ]
     },
     "execution_count": 9,
     "metadata": {},
     "output_type": "execute_result"
    }
   ],
   "source": [
    "from qiskit_ibm_runtime import QiskitRuntimeService, Session, Options, Sampler, Estimator\n",
    "service = QiskitRuntimeService(channel='ibm_quantum')\n",
    "service.backends()"
   ]
  },
  {
   "cell_type": "markdown",
   "id": "605f3cc8-1e3c-480f-b298-4ecbd7f5fee8",
   "metadata": {},
   "source": [
    "## Importing necessarry libraries\n",
    "\n",
    "Let's start by importing the libraries we need to perform Vartiational Quantum Eigensolver for the Berylium Hydride $BeH_2$ molecule."
   ]
  },
  {
   "cell_type": "code",
   "execution_count": 10,
   "id": "efa8dcf8-fdc8-4981-bda2-7ebe89a4bcb1",
   "metadata": {},
   "outputs": [],
   "source": [
    "# Import necessary libraries and packages\n",
    "import math\n",
    "import matplotlib.pyplot as plt\n",
    "import numpy as np\n",
    "\n",
    "import warnings\n",
    "warnings.filterwarnings('ignore')\n",
    "\n",
    "from qiskit import Aer, IBMQ, QuantumCircuit\n",
    "from qiskit.primitives import Estimator, BackendEstimator\n",
    "from qiskit.providers.aer import StatevectorSimulator\n",
    "from qiskit.utils import QuantumInstance, algorithm_globals\n",
    "from qiskit_ibm_runtime import QiskitRuntimeService, Estimator, Session, Options\n",
    "\n",
    "\n",
    "from qiskit.tools.jupyter import *\n",
    "from qiskit.visualization import *\n",
    "\n",
    "# Import Qiskit libraries for VQE\n",
    "from qiskit.algorithms import MinimumEigensolverResult, VQE\n",
    "from qiskit.algorithms.optimizers import SLSQP, SPSA\n",
    "\n",
    "# Import Qiskit Nature libraries\n",
    "from qiskit_nature.drivers import Molecule\n",
    "from qiskit_nature.problems.second_quantization.electronic import ElectronicStructureProblem\n",
    "from qiskit_nature.drivers.second_quantization import ElectronicStructureDriverType, ElectronicStructureMoleculeDriver\n",
    "from qiskit_nature.transformers.second_quantization.electronic import ActiveSpaceTransformer\n",
    "from qiskit_nature.converters.second_quantization import QubitConverter\n",
    "from qiskit_nature.mappers.second_quantization import BravyiKitaevMapper, JordanWignerMapper, ParityMapper\n",
    "\n",
    "from qiskit_nature.second_q.algorithms import VQEUCCFactory ,NumPyMinimumEigensolverFactory, GroundStateEigensolver\n",
    "from qiskit_nature.circuit.library import UCC, UCCSD,  HartreeFock\n",
    "\n",
    "# Prototype-zne\n",
    "#!pip install prototype-zne --quiet\n",
    "\n",
    "from qiskit_nature.settings import settings\n",
    "\n",
    "settings.dict_aux_operators = True"
   ]
  },
  {
   "cell_type": "markdown",
   "id": "61b0f86c-e700-4d28-b903-27d9f6880b4d",
   "metadata": {},
   "source": [
    "## Helper functions\n",
    "\n",
    "Here we first use two function helpers functions $\\textit{construct_problem}$ and $\\textit{construct_problem_BK}$  to build our molecular model. Both will take some molecular properties and return the necessarry ansatz, the fermionic Hamiltonian and the electronic structure proble. \n",
    "\n",
    "With the molecular geometry, the charge, the multiplicity, the number of electrons and molecular orbitals defined, this function will define an Electronic structure driver according to these parameters in a given basis.  \n",
    "\n",
    "The next step is to select our active space which will describe what molecular orbitals will be simulated with VQE. As the problem size increases, the computational cost (number of qubits (which corresponds to the number of orbitals is used) and the circuit depth (which corresponds to the number of electronic excitations considered)) increases rapidly. The active space approach is a well known approach to reduce the computational cost. In many chemistry problems, the orbitals occupied with electrons high in energy and the unoccupied orbitals with low energy play an important role. So, rather than treating all orbitals and electrons with the same accuracy, treating those important electrons and orbitals with high accuracy is a good approximation in general. Therefore, we can select the important orbitals and electrons as our active space and solve the problem with low cost while maintaining the accuracy of the calculation.I used $\\textit{ActiveSpaceTransformer}$ to specify how many electrons and molecular orbitals we would like to have in our active space, as well as which of those particular orbitals we would like to consider. After that, we then create an ElectronicStructureProblem that produces a list of fermionic operators that describe the fermionic Hamiltonian in the second quantization.\n",
    "\n",
    "Because electrons are fermions, the electronic systems are described by Hamiltonians consisting of fermionic operators expressed in second quantization. Since quantum computers are made up of qubits, we have to transform such fermionic Hamiltonians into the qubit operators. For that we use different fermionic to qubit operators mapper from Qiskit Runtime. We focused on comparing two different mappers. The $text_it{Brayvi-Kitae}$ method because is attractive since it focuses on minimizing the Pauli weight of the qubit Hamiltonian ($\\textit{construct_problem_BK}$). The Pauli weight is generally referred to the maximum number of qubits on which each Pauli string produced act, i.e. the maximum number of non-identity operators in any Pauli string produced by the mapping. Many features throughout the VQE pipeline are affected by this number. Firstly, low-weight encodings result in lower depth ansätze and lower circuit construction costs. Secondly, it has been shown that using low-weight operators as observable in the VQE cost function provides some resilience against the barren plateau problem. Finally, the lower the Pauli weight, the lower is the overall probability of readout error. This is obvious, as identity operators do not need to be measured, and as such the probability of measurement error increases with the Pauli weight. Despite that, we still wanted to compare it with the slighly worse mapper using $text_it{Parity Mapper}$ ($\\textit{construct_problem}$). The interesting part about the later is that we can use the $text_it {two qubit reduction}$ method from Qiskit Runtime to further reduce the number of required qubits and therefore computational cost of the VQE operation. The two qubit reduction converter eliminates the central and last qubit in a list of Paulis that have diagonal operators (Z, I) in those positions. This is a nice method that can be used in chemistry problems to reduce computational resources.\n",
    "\n",
    "\n",
    "Beyond this, we also generated a parametrised circuit (ansatz) based on the Hartree-Fock ground state as a trial state for our VQE routine."
   ]
  },
  {
   "cell_type": "code",
   "execution_count": 11,
   "id": "da991f45-533d-44e3-8753-693b09399e97",
   "metadata": {},
   "outputs": [],
   "source": [
    "def construct_problem(geometry, charge, multiplicity, basis, num_electrons, num_molecular_orbitals):\n",
    "    \n",
    "    '''\n",
    "    Function to contruct the problem to be used in a vqe routine for\n",
    "    \n",
    "    Args:\n",
    "        geometry coordinates, charge, multiplicity for the Molecule object,\n",
    "        basis for ElectronicStructureMoleculeDriver and\n",
    "        num_molecular_orbitals for the ActiveSpaceTransformer call.\n",
    "    Returns:\n",
    "        ansatz circuit, qubit_op_parity Hamiltonian, \n",
    "        real_solution converged using the StatevectorSimulator\n",
    "        problem_reduced which has the reduced ElectronicStructureProblem\n",
    "    '''\n",
    "\n",
    "    molecule = Molecule(geometry=geometry,charge=charge, multiplicity=multiplicity) \n",
    "    \n",
    "    driver = ElectronicStructureMoleculeDriver(molecule, basis=basis, driver_type=ElectronicStructureDriverType.PYSCF) \n",
    "\n",
    "    # Run the preliminary quantum chemistry calculation\n",
    "    properties = driver.run()\n",
    "\n",
    "    # Set the active space\n",
    "    active_space_trafo = ActiveSpaceTransformer(num_electrons=num_electrons,\n",
    "                                    num_molecular_orbitals=num_molecular_orbitals) \n",
    "\n",
    "    # Now you can get the reduced electronic structure problem\n",
    "    problem_reduced = ElectronicStructureProblem(driver, transformers=[active_space_trafo])\n",
    "\n",
    "    # The second quantized Hamiltonian of the reduce problem\n",
    "    second_q_ops_reduced = problem_reduced.second_q_ops()\n",
    "\n",
    "    # Set the mapper to qubits\n",
    "    mapper = ParityMapper() # This is the example of parity mapping\n",
    "\n",
    "    # Set the qubit converter with two qubit reduction to reduce the computational cost \n",
    "    converter = QubitConverter(mapper, two_qubit_reduction=True) \n",
    "\n",
    "    # Compute the Hamitonian in qubit form\n",
    "    qubit_op = converter.convert(second_q_ops_reduced.get('ElectronicEnergy'), num_particles=problem_reduced.num_particles)\n",
    "   \n",
    "    # Get reference solution\n",
    "    #vqe_factory = VQEUCCFactory(quantum_instance=StatevectorSimulator(),optimizer=SLSQP(),ansatz=UCC(excitations='sd')) \n",
    "    #solver = GroundStateEigensolver(parity_converter, vqe_factory)    \n",
    "    #real_solution = solver.solve(problem_reduced).total_energies[0]   \n",
    "    \n",
    "    init_state = HartreeFock(num_spin_orbitals=problem_reduced.num_spin_orbitals,\n",
    "                         num_particles=problem_reduced.num_particles, \n",
    "                         qubit_converter=converter)\n",
    "    ansatz = UCC(\n",
    "        qubit_converter=converter,\n",
    "        num_particles=problem_reduced.num_particles, \n",
    "        num_spin_orbitals=problem_reduced.num_spin_orbitals,\n",
    "        excitations='sd',\n",
    "        initial_state = init_state)\n",
    "    \n",
    "    return ansatz, qubit_op, problem_reduced"
   ]
  },
  {
   "cell_type": "code",
   "execution_count": 12,
   "id": "620180ce-6e20-4ccf-ac23-1950c705c91d",
   "metadata": {},
   "outputs": [],
   "source": [
    "def construct_problem_BK(geometry, charge, multiplicity, basis, num_electrons, num_molecular_orbitals):\n",
    "    \n",
    "    '''\n",
    "    Function to contruct the problem to be used in a vqe routine for\n",
    "    \n",
    "    Args:\n",
    "        geometry coordinates, charge,multiplicity for the Molecule object,\n",
    "        basis for ElectronicStructureMoleculeDriver and\n",
    "        num_molecular_orbitals for the ActiveSpaceTransformer call.\n",
    "    Returns:\n",
    "        ansatz circuit, qubit_op_parity Hamiltonian, \n",
    "        real_solution converged using the StatevectorSimulator\n",
    "        problem_reduced which has the reduced ElectronicStructureProblem\n",
    "    '''\n",
    "\n",
    "    molecule = Molecule(geometry=geometry,charge=charge, multiplicity=multiplicity) \n",
    "    \n",
    "    driver = ElectronicStructureMoleculeDriver(molecule, basis=basis, driver_type=ElectronicStructureDriverType.PYSCF) \n",
    "\n",
    "    # Run the preliminary quantum chemistry calculation\n",
    "    properties = driver.run()\n",
    "\n",
    "    # Set the active space\n",
    "    \n",
    "    active_space_trafo = ActiveSpaceTransformer(num_electrons=num_electrons,\n",
    "                                        num_molecular_orbitals=num_molecular_orbitals) \n",
    "\n",
    "    # Now you can get the reduced electronic structure problem\n",
    "    problem_reduced = ElectronicStructureProblem(driver, transformers=[active_space_trafo])\n",
    "\n",
    "    # The second quantized Hamiltonian of the reduce problem\n",
    "    second_q_ops_reduced = problem_reduced.second_q_ops()\n",
    "\n",
    "    # Set the mapper to qubits\n",
    "    mapper = BravyiKitaevMapper()\n",
    "    \n",
    "    # Set the qubit converter with two qubit reduction to reduce the computational cost \n",
    "    converter = QubitConverter(mapper, two_qubit_reduction=True) \n",
    "\n",
    "    # Compute the Hamitonian in qubit form\n",
    "    qubit_op = converter.convert(second_q_ops_reduced.get('ElectronicEnergy'), num_particles=problem_reduced.num_particles)\n",
    "   \n",
    "    # Get reference solution\n",
    "    #vqe_factory = VQEUCCFactory(quantum_instance=StatevectorSimulator(),optimizer=SLSQP(),ansatz=UCC(excitations='sd')) \n",
    "    #solver = GroundStateEigensolver(parity_converter, vqe_factory)    \n",
    "    #real_solution = solver.solve(problem_reduced).total_energies[0]   \n",
    "    \n",
    "    init_state = HartreeFock(num_spin_orbitals=problem_reduced.num_spin_orbitals,\n",
    "                         num_particles=problem_reduced.num_particles, \n",
    "                         qubit_converter=converter)\n",
    "    ansatz = UCC(\n",
    "        qubit_converter=converter,\n",
    "        num_particles=problem_reduced.num_particles, \n",
    "        num_spin_orbitals=problem_reduced.num_spin_orbitals,\n",
    "        excitations='sd',\n",
    "        initial_state = init_state)\n",
    "    \n",
    "    return ansatz, qubit_op, problem_reduced"
   ]
  },
  {
   "cell_type": "markdown",
   "id": "beaccc3e-d7c5-495a-992c-64a441efa32c",
   "metadata": {},
   "source": [
    "Next, we will define how we shall set our VQE routine with the Estimator Primitive of Qiskit Runtime. Remember, the Estimator will return the estimated expectation values of quantum circuits and observables passed to it. The circuit to pass here will be our ansatz, the observables will be the qubit_op fermionic hamiltonian we will generate from the first helper functions and the parameter_values will be the values processed by the classical optimizer passed here as x. For our example here, we shall be using the Simultaneous perturbation stochastic approximation (SPSA) optimizer for our routine. For the purpose of visualizing the result and getting a view on the internal states of the optimization run, we shall also define a callback function which shall append the convergence value per run and store it in a list to be visualized later."
   ]
  },
  {
   "cell_type": "code",
   "execution_count": 13,
   "id": "4265e863-3776-44ab-b8d4-39ce847baa7a",
   "metadata": {},
   "outputs": [],
   "source": [
    "def custom_vqe(estimator, ansatz, ops, problem_reduced, optimizer = None, initial_point=None):\n",
    "    \n",
    "    '''\n",
    "    custom vqe routine for molecular ground level energy estimation\n",
    "    \n",
    "    Args:\n",
    "        An estimator object which can be any estimator derivation as long as it implements the BaseEstimator class\n",
    "        ansatz circuit to be evaluated,\n",
    "        ops observables to be estimated,\n",
    "        problem_reduced which has the reduced ElectronicStructureProblem for interpreting results\n",
    "        optimizer if required. Default will be set to SPSA\n",
    "    Returns:\n",
    "        vqe_interpret list of interpreted converged values by the optimizer\n",
    "        job_list list of stored jobs\n",
    "    \n",
    "    '''\n",
    "    # for the random parameters to not change every run\n",
    "    algorithm_globals.random_seed = 1024\n",
    "    \n",
    "    \n",
    "    # Define convergence list\n",
    "    convergence = []\n",
    "\n",
    "    # Keep track of jobs (Do-not-modify)\n",
    "    job_list = []\n",
    "\n",
    "    # Define evaluate_expectation function\n",
    "    def evaluate_expectation(x):\n",
    "        x = list(x)\n",
    "\n",
    "        # Define estimator run parameters\n",
    "        job =  estimator.run(ansatz, ops,[x]).result()\n",
    "        results = job.values[0]\n",
    "        job_list.append(job)\n",
    "\n",
    "        # Pass results back to callback function\n",
    "        return np.real(results)\n",
    "\n",
    "    # Call back function\n",
    "    def callback(x,fx,ax,tx,nx):\n",
    "        # Callback function to get a view on internal states and statistics of the optimizer for visualization\n",
    "        convergence.append(evaluate_expectation(fx))\n",
    "\n",
    "    np.random.seed(10)\n",
    "\n",
    "    # Define initial point. We shall define a random point here based on the number of parameters in our ansatz\n",
    "    if initial_point is None:\n",
    "        initial_point = np.random.random(ansatz.num_parameters)\n",
    "\n",
    "    # Define optimizer and pass callback function\n",
    "    if optimizer == None:\n",
    "        optimizer = SPSA(maxiter=50, callback=callback)\n",
    "\n",
    "    # Define minimize function\n",
    "    result =  optimizer.minimize(evaluate_expectation ,initial_point)\n",
    "\n",
    "    vqe_interpret = []\n",
    "    for i in range(len(convergence)):\n",
    "        sol = MinimumEigensolverResult()\n",
    "        sol.eigenvalue = convergence[i]\n",
    "        sol = problem_reduced.interpret(sol).total_energies[0]\n",
    "        vqe_interpret.append(sol)\n",
    "\n",
    "    return vqe_interpret, job_list, result"
   ]
  },
  {
   "cell_type": "markdown",
   "id": "e03a4228-861c-4d7e-901c-7e4e6a3dd0f8",
   "metadata": {},
   "source": [
    "We also generated a helper function for plotting the convergence results of our VQE algorithms."
   ]
  },
  {
   "cell_type": "code",
   "execution_count": 14,
   "id": "fa4024db-5c84-4568-bd75-495b27184d12",
   "metadata": {},
   "outputs": [],
   "source": [
    "import matplotlib.pyplot as plt\n",
    "\n",
    "def plot_graph(energy, molecule, color=\"tab:blue\"):\n",
    "    \n",
    "    plt.rcParams[\"font.size\"] = 14\n",
    "\n",
    "    # plot loss and reference value\n",
    "    plt.figure(figsize=(12, 6), facecolor='white')\n",
    "    plt.plot(energy, label=\"Estimator VQE {}\".format(molecule),color = color)\n",
    "\n",
    "    plt.legend(loc=\"best\")\n",
    "    plt.xlabel(\"Iteration\")\n",
    "    plt.ylabel(\"Energy [H]\")\n",
    "    plt.title(\"VQE energy\")\n",
    "    plt.show()"
   ]
  },
  {
   "cell_type": "markdown",
   "id": "266fbff3-125c-46b7-a0f1-8492ab96fb6e",
   "metadata": {},
   "source": [
    "We choose to work with the most known linear and symmetric configuration of $BeH_2$ (the two $Be-H$ bonds are oriented 180 degrees apart from each other) with an atomic distance $H-Be$ of $1.33$ Angstroms. In this configuration, the ground state energy of the molecule, computed in the $\\textit{6-311G}$ basis is $-15.83396$ Hartrees. We define our molecular geometry using cartesian coordinates centered at the Berylium atom (Be). Next step is to set a chemical driver associated with its charge and mutiplicity in a given basis. In molecular chemistry, multiplicity refers to the number of spin states that a molecule can adopt. The multiplicity of energy levels is defined as $2S + 1$, where $S$ is the total spin of the molecule. Considering the spin of electrons is $\\frac{1}{2}$ ,the multiplicity is then related to the number of unpaired electrons in the molecule : $ S = N + 1 $ where N is the number of unpaired electrons. In the case of $BeH_2$, there are no unpaired electrons, as both valence electrons of the beryllium atom are involved in bonding. Its multiplicity is therefore $1$. I choose to compute define the molecular structure problem in the \\textit{6-311g} basis bacause the ground state reference value was compute in that basis. When it comes to the number of molecular orbitals $BeH_2$ , BeH2 consists of one beryllium atom and two hydrogen atoms. Beryllium has two valence electrons, which occupy the $2s$ atomic orbital. The two hydrogen atoms have one valence electron each, which occupy the $1s$ atomic orbital. When the Be and H atoms come together to form BeH2, their atomic orbitals overlap to create four molecular orbitals."
   ]
  },
  {
   "cell_type": "markdown",
   "id": "78a4666d-1abc-40a8-bccb-74639272df0a",
   "metadata": {},
   "source": [
    "## Using Parity Mapper with two qubit reduction"
   ]
  },
  {
   "cell_type": "code",
   "execution_count": 28,
   "id": "3cc07b46-cc4e-4a5a-9a64-c743e8ef26b4",
   "metadata": {},
   "outputs": [
    {
     "name": "stdout",
     "output_type": "stream",
     "text": [
      "-12.212213147892554 * IIIIII\n",
      "+ 3.2007004370147647 * IIIIIZ\n",
      "- 0.04514030135319296 * IIIIZX\n",
      "+ 0.04514030135319296 * IIIIIX\n",
      "+ 0.6016111600259298 * IIIIZZ\n",
      "+ 0.5852837104263732 * IIIZZI\n",
      "- 0.30485816322879267 * IIIZII\n",
      "- 3.2007004370147647 * IIZIII\n",
      "+ 0.04514030135319291 * IZXIII\n",
      "+ 0.04514030135319291 * IIXIII\n",
      "+ 0.6016111600259302 * IZZIII\n",
      "+ 0.5852837104263734 * ZZIIII\n",
      "+ 0.30485816322879267 * ZIIIII\n",
      "+ 0.04969077462510032 * IIIIZI\n",
      "+ 0.05214855316140924 * IIIZZZ\n",
      "- 0.017324362865332087 * IIIZIZ\n",
      "- 0.0047893982564159035 * IIIZIX\n",
      "+ 0.0047893982564159035 * IIIZZX\n",
      "- 0.5671060328243879 * IIZIIZ\n",
      "+ 0.04185361505178516 * IIZIZX\n",
      "- 0.04185361505178516 * IIZIIX\n",
      "+ 0.04185361505178516 * IZXIIZ\n",
      "+ 0.04185361505178516 * IIXIIZ\n",
      "- 0.004803497807859238 * IZXIZX\n",
      "- 0.004803497807859238 * IIXIZX\n",
      "+ 0.004803497807859238 * IZXIIX\n",
      "+ 0.004803497807859238 * IIXIIX\n",
      "- 0.0015111851013140444 * ZXXZXX\n",
      "+ 0.0015111851013140444 * IYYZXX\n",
      "- 0.0015111851013140444 * ZXXIYY\n",
      "+ 0.0015111851013140444 * IYYIYY\n",
      "+ 0.0007107852873749015 * XXXXXX\n",
      "- 0.0007107852873749015 * YXYXXX\n",
      "- 0.0007107852873749015 * XXXYXY\n",
      "+ 0.0007107852873749015 * YXYYXY\n",
      "+ 0.11472944100870142 * IZZIIZ\n",
      "- 0.0008510660737605139 * IZZIZX\n",
      "+ 0.0008510660737605139 * IZZIIX\n",
      "+ 0.00325478856392307 * ZXZZXX\n",
      "- 0.00325478856392307 * IXIZXX\n",
      "+ 0.00325478856392307 * ZXZIYY\n",
      "- 0.00325478856392307 * IXIIYY\n",
      "- 0.0009056672406853557 * XXZXXX\n",
      "- 0.0009056672406853557 * YYIXXX\n",
      "+ 0.0009056672406853557 * XXZYXY\n",
      "+ 0.0009056672406853557 * YYIYXY\n",
      "+ 0.11102391210767602 * ZZIIIZ\n",
      "- 0.0003360977835713653 * ZZIIZX\n",
      "+ 0.0003360977835713653 * ZZIIIX\n",
      "+ 0.07716735286761506 * ZIIIIZ\n",
      "- 0.00029284466823611174 * ZIIIZX\n",
      "+ 0.00029284466823611174 * ZIIIIX\n",
      "- 0.11472944100870142 * IIZIZZ\n",
      "+ 0.0008510660737605139 * IZXIZZ\n",
      "+ 0.0008510660737605139 * IIXIZZ\n",
      "- 0.00325478856392307 * ZXXZXZ\n",
      "+ 0.00325478856392307 * IYYZXZ\n",
      "+ 0.00325478856392307 * ZXXIXI\n",
      "- 0.00325478856392307 * IYYIXI\n",
      "+ 0.0009056672406853557 * XXXXXZ\n",
      "- 0.0009056672406853557 * YXYXXZ\n",
      "- 0.0009056672406853557 * XXXYYI\n",
      "+ 0.0009056672406853557 * YXYYYI\n",
      "+ 0.0955898980793815 * IZZIZZ\n",
      "+ 0.03970240666225654 * ZXZZXZ\n",
      "- 0.03970240666225654 * IXIZXZ\n",
      "- 0.03970240666225654 * ZXZIXI\n",
      "+ 0.03970240666225654 * IXIIXI\n",
      "- 0.0062506827969483186 * XXZXXZ\n",
      "- 0.0062506827969483186 * YYIXXZ\n",
      "+ 0.0062506827969483186 * XXZYYI\n",
      "+ 0.0062506827969483186 * YYIYYI\n",
      "+ 0.09883461137716462 * ZZIIZZ\n",
      "+ 0.06361485664190107 * ZIIIZZ\n",
      "- 0.11102391210767602 * IIZZZI\n",
      "+ 0.0003360977835713653 * IZXZZI\n",
      "+ 0.0003360977835713653 * IIXZZI\n",
      "+ 0.09883461137716462 * IZZZZI\n",
      "+ 0.10409064217664045 * ZZIZZI\n",
      "- 0.0019797905040724807 * XZIXZI\n",
      "+ 0.0019797905040724807 * XIIXZI\n",
      "- 0.0019797905040724807 * XZIXII\n",
      "+ 0.0019797905040724807 * XIIXII\n",
      "+ 0.06221495907981434 * ZIIZZI\n",
      "+ 0.07716735286761506 * IIZZII\n",
      "- 0.0002928446682361118 * IZXZII\n",
      "- 0.0002928446682361118 * IIXZII\n",
      "- 0.06361485664190107 * IZZZII\n",
      "- 0.06221495907981434 * ZZIZII\n",
      "- 0.060095797408575444 * ZIIZII\n",
      "- 0.04969077462510032 * IZIIII\n",
      "- 0.05214855316140924 * ZZZIII\n",
      "- 0.017324362865332087 * ZIZIII\n",
      "+ 0.0047893982564159035 * ZIXIII\n",
      "+ 0.0047893982564159035 * ZZXIII\n"
     ]
    }
   ],
   "source": [
    "a = 1.333 # Interatomic distance in Angstroms\n",
    "geo = [[\"Be\", [0.0, 0.0, 0.0]],\n",
    "            [\"H\", [a, 0.0, 0.0]],\n",
    "            [\"H\",[-a, 0.0, 0.0]]]\n",
    "\n",
    "ansatz, ops, problem_reduced = construct_problem(geometry=geo, charge=0, multiplicity=1, basis=\"6-311g\", num_electrons=6, num_molecular_orbitals=4)\n",
    "print(ops) # Fermionic Hamiltonian"
   ]
  },
  {
   "cell_type": "markdown",
   "id": "ae50a7f3-f7bd-4a10-9bc4-8c73516562c1",
   "metadata": {},
   "source": [
    "One very attractive aspect of Qiskit Runtime is the availibility of specific Quantum Error Correction and Mitigation tools from the Estimator primitive. \n",
    "Here we use $\\textit{options.optimization_level = 3}$ corresponding to the use of an error mitigation technique called Dynamic Decoupling. Dynamic decoupling (DD) is used to increase the lifetime of quantum information. If a qubit is idle, it becomes noisy because of decoherence, leaking information to surroundings. To prevent this idle state, we effectively disconnect the environment using so-called decoupling methods; scan the circuit for idle periods of time (i.e. those containing delay instructions) and insert a DD sequence of gates in those spots. These gates amount to the identity, so do not alter the logical action of the circuit, but have the effect of mitigating decoherence in those idle periods. However, this technique may not better the situation if you do not use a proper DD sequence because the pulses have finite lengths and do not implement perfect rotations. As a result, it is important to have an optimal decoupling sequence which does not destroy the qubit coherence instead of preserving it.\n",
    "By activating $\\textit{options.resilience_level = 2}$ , we choose to apply an error mitigation tehcnique called Digital Zero Noise Extrapolation (ZNE). Digital Zero Noise Extrapolation (ZNE) is a popular technique for mitigating errors in noisy quantum computers without the need for additional quantum resources. A quantum program is altered to run at different effect levels of processor noise. The result of the computation is extrapolated to an estimated value at a noiseless level.  To find the proper value, Digital ZNE firstly scales noise as explained above. There are two kinds of methods for scaling it: analog and digital. It is still an active research question around which method is the best to use. Note that the digital way is by not acting on the physical quantum pulses."
   ]
  },
  {
   "cell_type": "code",
   "execution_count": null,
   "id": "2ba69ac7-4800-4962-aabb-7d35c2d82aa6",
   "metadata": {},
   "outputs": [],
   "source": [
    "# define backend for Estimator\n",
    "backend = service.backend(\"ibmq_qasm_simulator\")\n",
    "#backend = service.backend(\"ibm_nairobi\")\n",
    "#backend = service.backend(\"ibmq_jakarta\")\n",
    "\n",
    "# define options for Estimator\n",
    "options = Options()\n",
    "\n",
    "#options.execution.shots = 5\n",
    "options.optimization_level = 3 # Dynamic Decoupling for error correction\n",
    "options.resilience_level = 2  # Zero noise Extraplotaion for error mitigation\n",
    "    \n",
    "# inititilize the estimator \n",
    "estimator = Estimator(session=backend, options=options)\n",
    "\n",
    "Energy, _ , jobs = custom_vqe(estimator, ansatz, ops, problem_reduced)"
   ]
  },
  {
   "cell_type": "code",
   "execution_count": 21,
   "id": "dee4503d-4490-4b76-82e7-28a75c841084",
   "metadata": {},
   "outputs": [
    {
     "name": "stdout",
     "output_type": "stream",
     "text": [
      "Computed Energy: (-15.394879592588708+0j)\n"
     ]
    }
   ],
   "source": [
    "print(\"Computed Energy:\", Energy[-1])"
   ]
  },
  {
   "cell_type": "code",
   "execution_count": 22,
   "id": "56515bf1-069e-4c5b-9909-19b9a4bfcc25",
   "metadata": {},
   "outputs": [
    {
     "data": {
      "image/png": "[encoded data removed]",
      "text/plain": [
       "<Figure size 864x432 with 1 Axes>"
      ]
     },
     "metadata": {},
     "output_type": "display_data"
    }
   ],
   "source": [
    "plot_graph(Energy, \"BeH2\")"
   ]
  },
  {
   "cell_type": "markdown",
   "id": "501e8ceb-7fd9-490f-a0d1-0d90ea23287d",
   "metadata": {},
   "source": [
    "## Using Brayvi-Kitae Mapper"
   ]
  },
  {
   "cell_type": "code",
   "execution_count": 16,
   "id": "3264f997-6580-4299-8ae9-207b5fdb32b8",
   "metadata": {},
   "outputs": [
    {
     "name": "stdout",
     "output_type": "stream",
     "text": [
      "-12.212213147892559 * IIIIIIII\n",
      "+ 3.200700437014766 * IIIIIIIZ\n",
      "- 0.0451403013531926 * IIIIIIZX\n",
      "+ 0.0451403013531926 * IIIIIIIX\n",
      "+ 0.60161116002593 * IIIIIIZZ\n",
      "+ 0.5852837104263745 * IIIIIZII\n",
      "+ 0.30485816322879167 * IIIIZZZI\n",
      "+ 3.2007004370147656 * IIIZIIII\n",
      "- 0.04514030135319255 * IIZXIIII\n",
      "+ 0.04514030135319255 * IIIXIIII\n",
      "+ 0.60161116002593 * IIZZIIII\n",
      "+ 0.5852837104263748 * IZIIIIII\n",
      "+ 0.3048581632287919 * ZZZIZIII\n",
      "+ 0.10992594320084235 * IIIIIIZI\n",
      "+ 0.1095127270063623 * IIIIIZIZ\n",
      "+ 0.07645656758024001 * IIIIZZZZ\n",
      "- 0.0035908863474944483 * IIIIIZZX\n",
      "+ 0.0035908863474944483 * IIIIIZIX\n",
      "- 0.0011985119089214613 * IIIIZZIX\n",
      "+ 0.0011985119089214613 * IIIIZZZX\n",
      "+ 0.5671060328243893 * IIIZIIIZ\n",
      "- 0.04185361505178521 * IIIZIIZX\n",
      "+ 0.04185361505178521 * IIIZIIIX\n",
      "- 0.04185361505178521 * IIZXIIIZ\n",
      "+ 0.04185361505178521 * IIIXIIIZ\n",
      "+ 0.004803497807859245 * IIZXIIZX\n",
      "- 0.004803497807859245 * IIIXIIZX\n",
      "- 0.004803497807859245 * IIZXIIIX\n",
      "+ 0.004803497807859245 * IIIXIIIX\n",
      "+ 0.0015111851013140483 * IYYXIYYX\n",
      "- 0.0015111851013140483 * IXYYIYYX\n",
      "- 0.0015111851013140483 * IYYXIXYY\n",
      "+ 0.0015111851013140483 * IXYYIXYY\n",
      "+ 0.0007107852873749005 * ZIXXIIXX\n",
      "+ 0.0007107852873749005 * IZYYZIXX\n",
      "+ 0.0007107852873749005 * ZIXXZZYY\n",
      "+ 0.0007107852873749005 * IZYYIZYY\n",
      "+ 0.11472944100870158 * IIZZIIIZ\n",
      "- 0.0008510660737605169 * IIZZIIZX\n",
      "+ 0.0008510660737605169 * IIZZIIIX\n",
      "+ 0.003254788563923077 * IYYZIYYX\n",
      "+ 0.003254788563923077 * IXXIIYYX\n",
      "- 0.003254788563923077 * IYYZIXYY\n",
      "- 0.003254788563923077 * IXXIIXYY\n",
      "+ 0.0009056672406853518 * ZIXZIIXX\n",
      "- 0.0009056672406853518 * IZXIZIXX\n",
      "+ 0.0009056672406853518 * ZIXZZZYY\n",
      "- 0.0009056672406853518 * IZXIIZYY\n",
      "+ 0.11102391210767634 * IZIIIIIZ\n",
      "- 0.0003360977835713716 * IZIIIIZX\n",
      "+ 0.0003360977835713716 * IZIIIIIX\n",
      "+ 0.07716735286761492 * ZZZIZIIZ\n",
      "- 0.00029284466823610957 * ZZZIZIZX\n",
      "+ 0.00029284466823610957 * ZZZIZIIX\n",
      "+ 0.059132204714908224 * IIIIIZZZ\n",
      "+ 0.057364173844952654 * IIIIZZIZ\n",
      "+ 0.11472944100870158 * IIIZIIZZ\n",
      "- 0.000851066073760517 * IIZXIIZZ\n",
      "+ 0.000851066073760517 * IIIXIIZZ\n",
      "+ 0.003254788563923077 * IYYXIYYZ\n",
      "- 0.003254788563923077 * IXYYIYYZ\n",
      "+ 0.003254788563923077 * IYYXIXXI\n",
      "- 0.003254788563923077 * IXYYIXXI\n",
      "+ 0.0009056672406853519 * ZIXXIIXZ\n",
      "+ 0.0009056672406853519 * IZYYZIXZ\n",
      "- 0.0009056672406853519 * ZIXXZZXI\n",
      "- 0.0009056672406853519 * IZYYIZXI\n",
      "+ 0.09558989807938155 * IIZZIIZZ\n",
      "+ 0.03970240666225661 * IYYZIYYZ\n",
      "+ 0.03970240666225661 * IXXIIYYZ\n",
      "+ 0.03970240666225661 * IYYZIXXI\n",
      "+ 0.03970240666225661 * IXXIIXXI\n",
      "+ 0.0062506827969482865 * ZIXZIIXZ\n",
      "- 0.0062506827969482865 * IZXIZIXZ\n",
      "- 0.0062506827969482865 * ZIXZZZXI\n",
      "+ 0.0062506827969482865 * IZXIIZXI\n",
      "+ 0.09883461137716484 * IZIIIIZZ\n",
      "+ 0.06361485664190095 * ZZZIZIZZ\n",
      "+ 0.060235168575741856 * IIIIZIZI\n",
      "+ 0.11102391210767634 * IIIZIZII\n",
      "- 0.00033609778357137157 * IIZXIZII\n",
      "+ 0.00033609778357137157 * IIIXIZII\n",
      "+ 0.09883461137716484 * IIZZIZII\n",
      "+ 0.1040906421766409 * IZIIIZII\n",
      "+ 0.0019797905040724777 * ZXZIIXZI\n",
      "- 0.0019797905040724777 * IXIIZXZI\n",
      "- 0.0019797905040724777 * ZXZIZXII\n",
      "+ 0.0019797905040724777 * IXIIIXII\n",
      "+ 0.06221495907981433 * ZZZIZZII\n",
      "+ 0.07716735286761492 * IIIZZZZI\n",
      "- 0.00029284466823610957 * IIZXZZZI\n",
      "+ 0.00029284466823610957 * IIIXZZZI\n",
      "+ 0.06361485664190095 * IIZZZZZI\n",
      "+ 0.06221495907981433 * IZIIZZZI\n",
      "+ 0.06009579740857523 * ZZZIIZZI\n",
      "+ 0.10992594320084235 * IIZIIIII\n",
      "+ 0.1095127270063623 * IZIZIIII\n",
      "+ 0.07645656758024001 * ZZZZZIII\n",
      "- 0.0035908863474944483 * IZZXIIII\n",
      "+ 0.0035908863474944483 * IZIXIIII\n",
      "- 0.0011985119089214613 * ZZIXZIII\n",
      "+ 0.0011985119089214613 * ZZZXZIII\n",
      "+ 0.059132204714908224 * IZZZIIII\n",
      "+ 0.057364173844952654 * ZZIZZIII\n",
      "+ 0.060235168575741856 * ZIZIZIII\n"
     ]
    }
   ],
   "source": [
    "ansatz_BK, ops_BK, problem_reduced_BK = construct_problem_BK(geometry=geo, charge=0, multiplicity=1, basis=\"6-311g\", num_electrons=6, num_molecular_orbitals=4)\n",
    "print(ops_BK) # Fermionic Hamiltonian"
   ]
  },
  {
   "cell_type": "code",
   "execution_count": 18,
   "id": "6d9b43c7-f218-4958-a7f9-1f7ef7bf3857",
   "metadata": {},
   "outputs": [],
   "source": [
    "# define backend\n",
    "backend = service.backend(\"ibmq_qasm_simulator\")\n",
    "#backend = service.backend(\"ibm_nairobi\")\n",
    "#backend = service.backend(\"ibmq_jakarta\")\n",
    "\n",
    "# define options for Estimator\n",
    "options = Options()\n",
    "\n",
    "#options.execution.shots = 5\n",
    "options.optimization_level = 3 # Dynamic Decoupling for error correction\n",
    "options.resilience_level = 2  # Zero noise Extraplotaion for error mitigation\n",
    "    \n",
    "# inititilize the estimator \n",
    "estimator = Estimator(session=backend, options=options)\n",
    "Energy_BK, _ , jobs_BK = custom_vqe(estimator, ansatz_BK, ops_BK, problem_reduced_BK)"
   ]
  },
  {
   "cell_type": "code",
   "execution_count": 20,
   "id": "4f5650d1-7c11-4976-9509-9115fcc64c48",
   "metadata": {},
   "outputs": [
    {
     "name": "stdout",
     "output_type": "stream",
     "text": [
      "Computed Energy with BK: (-15.39497039328359+0j)\n"
     ]
    }
   ],
   "source": [
    "print(\"Computed Energy with BK:\", Energy_BK[-1])"
   ]
  },
  {
   "cell_type": "code",
   "execution_count": 21,
   "id": "19ec7525-139c-40a8-8cc8-2e110f03a1d3",
   "metadata": {},
   "outputs": [
    {
     "data": {
      "image/png": "[encoded data removed]",
      "text/plain": [
       "<Figure size 864x432 with 1 Axes>"
      ]
     },
     "metadata": {},
     "output_type": "display_data"
    }
   ],
   "source": [
    "plot_graph(Energy_BK, \"BeH2\")"
   ]
  }
 ],
 "metadata": {
  "kernelspec": {
   "display_name": "Python 3 (ipykernel)",
   "language": "python",
   "name": "python3"
  },
  "language_info": {
   "codemirror_mode": {
    "name": "ipython",
    "version": 3
   },
   "file_extension": ".py",
   "mimetype": "text/x-python",
   "name": "python",
   "nbconvert_exporter": "python",
   "pygments_lexer": "ipython3",
   "version": "3.8.15"
  },
  "widgets": {
   "application/vnd.jupyter.widget-state+json": {
    "state": {
     "0192f4647622455981ef9358d3ae2622": {
      "model_module": "@jupyter-widgets/controls",
      "model_module_version": "1.5.0",
      "model_name": "DescriptionStyleModel",
      "state": {
       "description_width": ""
      }
     },
     "0e2137ba43f94edeb4d3b4815959566d": {
      "model_module": "@jupyter-widgets/controls",
      "model_module_version": "1.5.0",
      "model_name": "HTMLModel",
      "state": {
       "layout": "IPY_MODEL_1ce00580be4a44f7a27b0d599772f291",
       "style": "IPY_MODEL_b8cf5b6cb175480985ce9ffaedf7bc61",
       "value": "<h5>Job ID</h5>"
      }
     },
     "0ec153d83f6746b5b6de95bf93be6904": {
      "model_module": "@jupyter-widgets/base",
      "model_module_version": "1.2.0",
      "model_name": "LayoutModel",
      "state": {
       "width": "70px"
      }
     },
     "12b5aed9fb2948298fb357cd1c5fdbb8": {
      "model_module": "@jupyter-widgets/controls",
      "model_module_version": "1.5.0",
      "model_name": "DescriptionStyleModel",
      "state": {
       "description_width": ""
      }
     },
     "171fad1b86d74ca19d77fc8632e7915b": {
      "model_module": "@jupyter-widgets/controls",
      "model_module_version": "1.5.0",
      "model_name": "DescriptionStyleModel",
      "state": {
       "description_width": ""
      }
     },
     "1ce00580be4a44f7a27b0d599772f291": {
      "model_module": "@jupyter-widgets/base",
      "model_module_version": "1.2.0",
      "model_name": "LayoutModel",
      "state": {
       "width": "190px"
      }
     },
     "25bc541305fa47ff8234c8ef2800acbf": {
      "model_module": "@jupyter-widgets/controls",
      "model_module_version": "1.5.0",
      "model_name": "HTMLModel",
      "state": {
       "layout": "IPY_MODEL_0ec153d83f6746b5b6de95bf93be6904",
       "style": "IPY_MODEL_65f5d82731a44a6a91b44f27325a2651",
       "value": "<h5>Queue</h5>"
      }
     },
     "261e6d58151a4d728c4a834372875ad6": {
      "model_module": "@jupyter-widgets/controls",
      "model_module_version": "1.5.0",
      "model_name": "HBoxModel",
      "state": {
       "children": [
        "IPY_MODEL_0e2137ba43f94edeb4d3b4815959566d",
        "IPY_MODEL_b04fe5497e764a039bec0725f1d25ca0",
        "IPY_MODEL_b3fb819b21fd41c7ad50a1fb299dacff",
        "IPY_MODEL_25bc541305fa47ff8234c8ef2800acbf",
        "IPY_MODEL_29bb9ca8c1b542868891a6745fb635b0"
       ],
       "layout": "IPY_MODEL_a93d3d74ce5a4fbab70ffa3040980b25"
      }
     },
     "29bb9ca8c1b542868891a6745fb635b0": {
      "model_module": "@jupyter-widgets/controls",
      "model_module_version": "1.5.0",
      "model_name": "HTMLModel",
      "state": {
       "layout": "IPY_MODEL_681e1005ddd344c0bc4d1093682624f9",
       "style": "IPY_MODEL_171fad1b86d74ca19d77fc8632e7915b",
       "value": "<h5>Message</h5>"
      }
     },
     "397f8ff703b64b85a1c7f9a60c5d71a2": {
      "model_module": "@jupyter-widgets/base",
      "model_module_version": "1.2.0",
      "model_name": "LayoutModel",
      "state": {
       "width": "145px"
      }
     },
     "4c2342375a8c42f3af91d517c8390aac": {
      "model_module": "@jupyter-widgets/controls",
      "model_module_version": "1.5.0",
      "model_name": "DescriptionStyleModel",
      "state": {
       "description_width": ""
      }
     },
     "550b5574fb0e44d6a237d5a9026bb5a6": {
      "model_module": "@jupyter-widgets/controls",
      "model_module_version": "1.5.0",
      "model_name": "GridBoxModel",
      "state": {
       "children": [
        "IPY_MODEL_cfe7de51d03e421195710137eaaef06a"
       ],
       "layout": "IPY_MODEL_6a6369d3d9e74387be780884109842aa"
      }
     },
     "58471ea330a94b1ba5082290d76f5e2d": {
      "model_module": "@jupyter-widgets/controls",
      "model_module_version": "1.5.0",
      "model_name": "ButtonStyleModel",
      "state": {}
     },
     "5f992443c456476d8917684f2f0f8cc7": {
      "model_module": "@jupyter-widgets/base",
      "model_module_version": "1.2.0",
      "model_name": "LayoutModel",
      "state": {
       "width": "95px"
      }
     },
     "65f5d82731a44a6a91b44f27325a2651": {
      "model_module": "@jupyter-widgets/controls",
      "model_module_version": "1.5.0",
      "model_name": "DescriptionStyleModel",
      "state": {
       "description_width": ""
      }
     },
     "681e1005ddd344c0bc4d1093682624f9": {
      "model_module": "@jupyter-widgets/base",
      "model_module_version": "1.2.0",
      "model_name": "LayoutModel",
      "state": {}
     },
     "6a6369d3d9e74387be780884109842aa": {
      "model_module": "@jupyter-widgets/base",
      "model_module_version": "1.2.0",
      "model_name": "LayoutModel",
      "state": {
       "grid_template_areas": "\n                                       \". . . . right \"\n                                        ",
       "grid_template_columns": "20% 20% 20% 20% 20%",
       "width": "100%"
      }
     },
     "71f6473030ee422195333e98d0f13b35": {
      "model_module": "@jupyter-widgets/base",
      "model_module_version": "1.2.0",
      "model_name": "LayoutModel",
      "state": {
       "margin": "0px 0px 10px 0px"
      }
     },
     "761b4f9dcb464e7dba9f2498f68d336d": {
      "model_module": "@jupyter-widgets/controls",
      "model_module_version": "1.5.0",
      "model_name": "HTMLModel",
      "state": {
       "layout": "IPY_MODEL_71f6473030ee422195333e98d0f13b35",
       "style": "IPY_MODEL_0192f4647622455981ef9358d3ae2622",
       "value": "<p style='font-family: IBM Plex Sans, Arial, Helvetica, sans-serif; font-size: 20px; font-weight: medium;'>Circuit Properties</p>"
      }
     },
     "a93d3d74ce5a4fbab70ffa3040980b25": {
      "model_module": "@jupyter-widgets/base",
      "model_module_version": "1.2.0",
      "model_name": "LayoutModel",
      "state": {
       "margin": "0px 0px 0px 37px",
       "width": "600px"
      }
     },
     "b04fe5497e764a039bec0725f1d25ca0": {
      "model_module": "@jupyter-widgets/controls",
      "model_module_version": "1.5.0",
      "model_name": "HTMLModel",
      "state": {
       "layout": "IPY_MODEL_397f8ff703b64b85a1c7f9a60c5d71a2",
       "style": "IPY_MODEL_12b5aed9fb2948298fb357cd1c5fdbb8",
       "value": "<h5>Backend</h5>"
      }
     },
     "b3fb819b21fd41c7ad50a1fb299dacff": {
      "model_module": "@jupyter-widgets/controls",
      "model_module_version": "1.5.0",
      "model_name": "HTMLModel",
      "state": {
       "layout": "IPY_MODEL_5f992443c456476d8917684f2f0f8cc7",
       "style": "IPY_MODEL_4c2342375a8c42f3af91d517c8390aac",
       "value": "<h5>Status</h5>"
      }
     },
     "b8cf5b6cb175480985ce9ffaedf7bc61": {
      "model_module": "@jupyter-widgets/controls",
      "model_module_version": "1.5.0",
      "model_name": "DescriptionStyleModel",
      "state": {
       "description_width": ""
      }
     },
     "bd3815febe334d089fd0bd4bab02f8c4": {
      "model_module": "@jupyter-widgets/base",
      "model_module_version": "1.2.0",
      "model_name": "LayoutModel",
      "state": {
       "grid_area": "right",
       "padding": "0px 0px 0px 0px",
       "width": "70px"
      }
     },
     "cfe7de51d03e421195710137eaaef06a": {
      "model_module": "@jupyter-widgets/controls",
      "model_module_version": "1.5.0",
      "model_name": "ButtonModel",
      "state": {
       "button_style": "primary",
       "description": "Clear",
       "layout": "IPY_MODEL_bd3815febe334d089fd0bd4bab02f8c4",
       "style": "IPY_MODEL_58471ea330a94b1ba5082290d76f5e2d"
      }
     }
    },
    "version_major": 2,
    "version_minor": 0
   }
  }
 },
 "nbformat": 4,
 "nbformat_minor": 5
}
